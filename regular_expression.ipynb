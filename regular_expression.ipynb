{
 "cells": [
  {
   "cell_type": "code",
   "execution_count": 6,
   "metadata": {},
   "outputs": [
    {
     "name": "stdout",
     "output_type": "stream",
     "text": [
      "I love Ming-Chi: 是大陸手機號碼 False\n",
      "0932-999-199:    是大陸手機號碼 False\n",
      "133-1234-1234:   是大陸手機號碼 True\n"
     ]
    }
   ],
   "source": [
    "#1 判斷是否為中國手機號碼xxx-xxxx-xxxx\n",
    "def chinaPhone(str):\n",
    "    '''檢查字串是否為中國手機號碼'''\n",
    "    if len(str) != 13:\n",
    "        return False\n",
    "    for i in range(0,3):\n",
    "        if str[i].isdecimal() == False:\n",
    "            return False\n",
    "    \n",
    "    if str[3] != '-':\n",
    "        return False\n",
    "    \n",
    "    for i in range(4, 8):\n",
    "        if str[i].isdecimal() == False:\n",
    "            return False\n",
    "\n",
    "    if str[8] != '-':\n",
    "        return False\n",
    "    \n",
    "    for i in range(9, 13):\n",
    "        if str[i].isdecimal() == False:\n",
    "            return False\n",
    "\n",
    "    return True\n",
    "print(\"I love Ming-Chi: 是大陸手機號碼\", chinaPhone('I love Ming-Chi'))\n",
    "print(\"0932-999-199:    是大陸手機號碼\", chinaPhone('0932-999-199'))\n",
    "print(\"133-1234-1234:   是大陸手機號碼\", chinaPhone('133-1234-1234'))\n"
   ]
  },
  {
   "cell_type": "code",
   "execution_count": 13,
   "metadata": {},
   "outputs": [
    {
     "name": "stdout",
     "output_type": "stream",
     "text": [
      "小龍女 在文章裡且出現了 2 次\n",
      "楊過 在文章裡且出現了 2 次\n",
      "陳珉 在文章裡且出現了 0 次\n",
      "陳珉 不在\" 我喜歡看小龍女與楊過，不僅是因為小龍女美麗，楊過在戲中所扮演的角色更是讓我喜歡。 \"字串裡\n",
      "Bye\n"
     ]
    }
   ],
   "source": [
    "#2 搜尋16_2的 小龍女、楊過 並列出字串出現次數\n",
    "def search(key, string):\n",
    "    '''搜尋文字'''\n",
    "    notFound = True\n",
    "    count = 0\n",
    "    for i in range(0,len(string)+1):\n",
    "        if string[i: i+len(key)] == key:\n",
    "            notFound = False\n",
    "            count += 1\n",
    "    print(key, '在文章裡且出現了', count, '次')\n",
    "    if notFound:\n",
    "        print( key, '不在\"', string, '\"字串裡')\n",
    "    \n",
    "while True:\n",
    "    conti = input('欲繼續請輸入y, 退出請輸入q')\n",
    "    if conti == 'q':\n",
    "        print('Bye')\n",
    "        break\n",
    "    key = input('請輸入欲搜尋的字詞: ')\n",
    "\n",
    "    with open('16_2.txt',\"r\",encoding=\"utf-8\") as fn_obj:\n",
    "        data = fn_obj.read()\n",
    "        search(key, data)\n",
    "    \n"
   ]
  },
  {
   "cell_type": "code",
   "execution_count": 14,
   "metadata": {},
   "outputs": [
    {
     "name": "stdout",
     "output_type": "stream",
     "text": [
      "以下用(son){2,}做測試\n",
      "搜尋失敗 None\n",
      "搜尋成功 sonson\n",
      "搜尋成功 sonsonson\n",
      "搜尋成功 sonsonsonson\n",
      "搜尋成功 sonsonsonsonson\n",
      "以下用(son){,5}做測試\n",
      "搜尋成功 son\n",
      "搜尋成功 sonson\n",
      "搜尋成功 sonsonson\n",
      "搜尋成功 sonsonsonson\n",
      "搜尋成功 sonsonsonsonson\n"
     ]
    }
   ],
   "source": [
    "#3\n",
    "import re\n",
    "\n",
    "def searchstr(pattern, msg):\n",
    "    txt = re.search(pattern, msg)\n",
    "    if txt == None:\n",
    "        print('搜尋失敗', txt)\n",
    "    else:\n",
    "        print('搜尋成功', txt.group())\n",
    "\n",
    "msg1 = 'son'\n",
    "msg2 = 'sonson'\n",
    "msg3 = 'sonsonson'\n",
    "msg4 = 'sonsonsonson'\n",
    "msg5 = 'sonsonsonsonson'\n",
    "pattern = '(son){2,}' #兩次以上皆符合\n",
    "print(\"以下用(son){2,}做測試\")\n",
    "searchstr(pattern,msg1)\n",
    "searchstr(pattern,msg2)\n",
    "searchstr(pattern,msg3)\n",
    "searchstr(pattern,msg4)\n",
    "searchstr(pattern,msg5)\n",
    "print(\"以下用(son){,5}做測試\") #五次以下皆符合\n",
    "pattern = '(son){,5}'\n",
    "searchstr(pattern,msg1)\n",
    "searchstr(pattern,msg2)\n",
    "searchstr(pattern,msg3)\n",
    "searchstr(pattern,msg4)\n",
    "searchstr(pattern,msg5)"
   ]
  },
  {
   "cell_type": "code",
   "execution_count": 20,
   "metadata": {},
   "outputs": [
    {
     "name": "stdout",
     "output_type": "stream",
     "text": [
      "['ch14_10.py', 'ch14_11.py', 'ch14_12.py', 'ch14_13.py', 'ch14_14.py', 'ch14_14_1.py', 'ch14_15.py', 'ch14_16.py', 'ch14_17.py', 'ch14_18.py', 'ch14_19.py']\n"
     ]
    }
   ],
   "source": [
    "#4 進入ch14目錄 並列印出ch14_10到ch14_19\n",
    "import os\n",
    "import re\n",
    "list = os.listdir(\"D:\\\\Course\\\\python\\\\20200506讀者資源Python最強入門邁向數據科學之路王者歸來第二版\\\\讀者下載程式實例\\\\ch14\")\n",
    "result = []\n",
    "for i in range(0, len(list)):\n",
    "    pattern = r'ch14_1\\d{1}'\n",
    "    if re.findall(pattern, list[i]):\n",
    "        result.append(list[i])\n",
    "\n",
    "print(result)"
   ]
  },
  {
   "cell_type": "code",
   "execution_count": 26,
   "metadata": {},
   "outputs": [
    {
     "name": "stdout",
     "output_type": "stream",
     "text": [
      "02-8822334\n",
      "(02)-2666999\n",
      "02-2999888\n",
      " 1234567\n",
      "02 3388776\n",
      "02-1234567\n"
     ]
    }
   ],
   "source": [
    "#5 搜尋電話號碼程式 接受7位數字以及8位數字之電話號碼\n",
    "import re\n",
    "\n",
    "msg ='''02-88223349, (02)-26669999, 02-29998888 ext 123,\n",
    "        12345678, 02 33887766 ext. 12222,\n",
    "        02-1234567, 02-2345X789, 23-123456'''\n",
    "\n",
    "pattern = r'''(\n",
    "    (\\d{2}|\\(\\d{2}\\))?  #區域號碼 接受可有可無 接受有括號與沒括號\n",
    "    (\\s|-)?             #接受空格與分隔符號\n",
    "    (\\d{7}|\\d{8})       #接受7碼或8碼\n",
    "    (\\s*(ext|ext.)\\s*\\d{2,4})? #接受分機號碼 #()*為零到多次括號內的東西 #這裡的\\s是空白\n",
    "    )'''\n",
    "\n",
    "txt = re.findall(pattern, msg, re.VERBOSE)\n",
    "for i in txt:\n",
    "    print(i[0])"
   ]
  },
  {
   "cell_type": "code",
   "execution_count": 43,
   "metadata": {},
   "outputs": [
    {
     "name": "stdout",
     "output_type": "stream",
     "text": [
      "txt@deepstone.com.tw\n",
      "kkk@gmail.com\n",
      "abc@me.com\n",
      "mymail@qq.com\n",
      "daodao0988@gmail.com\n"
     ]
    }
   ],
   "source": [
    "#6 找出電子郵件\n",
    "\n",
    "import re\n",
    "\n",
    "msg = '''txt@deepstone.com.tw kkk@gmail.com \n",
    "    abc@me.com mymail@qq.com abc@abc@abc daodao0988@gmail.com'''\n",
    "\n",
    "pattern = r'''(\n",
    "    (\\w)+         #字母數字底線\n",
    "    (@)\n",
    "    (\\w)+         #主機域名\n",
    "    ([\\.])\n",
    "    ([a-zA-Z]{2,4}) #可能是edu或com或其他\n",
    "    ([\\.])?\n",
    "    ([a-zA-Z]{2,4})? #可能會有國別\n",
    "    )'''\n",
    "\n",
    "result = re.findall(pattern, msg, re.VERBOSE)\n",
    "for i in result:\n",
    "    print(i[0])"
   ]
  }
 ],
 "metadata": {
  "interpreter": {
   "hash": "28ec78c7585052904ea330740e72fb973aaa72c415024ec86ce3c0154fc2aa55"
  },
  "kernelspec": {
   "display_name": "Python 3.9.7 ('base')",
   "language": "python",
   "name": "python3"
  },
  "language_info": {
   "codemirror_mode": {
    "name": "ipython",
    "version": 3
   },
   "file_extension": ".py",
   "mimetype": "text/x-python",
   "name": "python",
   "nbconvert_exporter": "python",
   "pygments_lexer": "ipython3",
   "version": "3.9.7"
  },
  "orig_nbformat": 4
 },
 "nbformat": 4,
 "nbformat_minor": 2
}
